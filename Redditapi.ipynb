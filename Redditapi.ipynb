{
 "cells": [
  {
   "cell_type": "code",
   "execution_count": 5,
   "id": "4ae792bb",
   "metadata": {
    "scrolled": true
   },
   "outputs": [
    {
     "ename": "SyntaxError",
     "evalue": "invalid syntax (3331114372.py, line 1)",
     "output_type": "error",
     "traceback": [
      "\u001b[1;36m  Input \u001b[1;32mIn [5]\u001b[1;36m\u001b[0m\n\u001b[1;33m    https://api.telegram.org/bot5752838974:AAFlVJkaXORFNHA1WiJwwu-0RBYq5r4lw_M$token/sendMessage?chat_id=-626556791\u001b[0m\n\u001b[1;37m          ^\u001b[0m\n\u001b[1;31mSyntaxError\u001b[0m\u001b[1;31m:\u001b[0m invalid syntax\n"
     ]
    }
   ],
   "source": [
    "https://api.telegram.org/bot5752838974:AAFlVJkaXORFNHA1WiJwwu-0RBYq5r4lw_M$token/sendMessage?chat_id=-626556791"
   ]
  },
  {
   "cell_type": "code",
   "execution_count": 40,
   "id": "ba486730",
   "metadata": {},
   "outputs": [
    {
     "name": "stdout",
     "output_type": "stream",
     "text": [
      "Display Name: redditdev\n",
      "Title: reddit Development\n",
      "Description: A subreddit for discussion of Reddit's API and Reddit API clients.\n",
      "\n",
      "* [Read the API Overview & Rules](https://github.com/reddit/reddit/wiki/API)\n",
      "* [Check out the API documentation](http://www.reddit.com/dev/api)\n",
      "* [PRAW chat](https://join.slack.com/t/praw/shared_invite/enQtOTUwMDcxOTQ0NzY5LWVkMGQ3ZDk5YmQ5MDEwYTZmMmJkMTJkNjBkNTY3OTU0Y2E2NGRlY2ZhZTAzMWZmMWRiMTMwYjdjODkxOGYyZjY)\n",
      "* [Snoowrap chat](https://gitter.im/not-an-aardvark/snoowrap)\n",
      "* [Unofficial Discord](https://discord.gg/hVMhxpV)\n",
      "* Please do not request bots here. Consider /r/requestabot instead.\n",
      "\n",
      "\n",
      "Please confine discussion to Reddit's API instead of using this as a soapbox to talk to the admins. In particular, use [/r/ideasfortheadmins](/r/ideasfortheadmins) for feature ideas and [/r/bugs](/r/bugs) for bugs. If you have general reddit questions, try [/r/help](/r/help).\n",
      "\n",
      "To see an explanation of recent user-facing changes to reddit (and the code behind them), check out /r/changelog.\n",
      "\n",
      "---\n",
      "\n",
      "To report a security issue with reddit, please send an email to <security@reddit.com> .\n",
      "\n",
      "This is an admin-sponsored subreddit.\n"
     ]
    }
   ],
   "source": [
    "import praw\n",
    "import pandas as pd\n",
    "\n",
    "reddit_read_only = praw.Reddit(client_id=\"u7haa953Q7PdVr9XOtGbDA\",\t\t\n",
    "                   client_secret=\"HqM5V_eD0zVDsTLEYJtdOhZ3JxmF2Q\",\t \n",
    "                   user_agent=\"Val\")\t \n",
    "\n",
    "\n",
    "subreddit = reddit_read_only.subreddit(\"redditdev\")\n",
    "\n",
    "print(\"Display Name:\", subreddit.display_name)\n",
    "\n",
    "print(\"Title:\", subreddit.title)\n",
    "\n",
    "print(\"Description:\", subreddit.description)\n"
   ]
  },
  {
   "cell_type": "code",
   "execution_count": 42,
   "id": "d4c9cc4e",
   "metadata": {},
   "outputs": [
    {
     "name": "stdout",
     "output_type": "stream",
     "text": [
      "r/Football Daily Discussion Thread\n",
      "[Match thread - La Liga] Real Sociedad vs Barcelona\n",
      "Casemiro Joins Manchester United on Transfer From Real Madrid on 4-Year Contract\n",
      "The Fastest Goal in Soccer history was scored just over 2 seconds after kick-off.\n",
      "Jamie Vardy Extends Leicester City Contract\n",
      "Where is the best place to buy retro/old official kits?\n",
      "[Match thread - Premier League] Leeds vs Chelsea\n",
      "[Match thread - Serie A] Atalanta vs AC Milan\n",
      "Pep Guardiola plots to evolve football once again with his use of Erling Haaland\n",
      "hello guys imma post this post so u can clown my stupid city fan friend\n",
      "Promising players with a Messi-like playing style?\n",
      "\n"
     ]
    }
   ],
   "source": [
    "subreddit = reddit_read_only.subreddit(\"football\")\n",
    "for post in subreddit.hot(limit=11):\n",
    " print(post.title)\n",
    "print()\n"
   ]
  },
  {
   "cell_type": "code",
   "execution_count": null,
   "id": "5268c4b6",
   "metadata": {},
   "outputs": [],
   "source": [
    "posts = subreddit.top(\"month\")\n",
    "# Scraping the top posts of the current month\n",
    "\n",
    "posts_dict = {\"Title\": [], \"Post Text\": [],\n",
    "   \"ID\": [], \"Score\": [],\n",
    "   \"Total Comments\": [], \"Post URL\": []\n",
    "}\n",
    "\n",
    "for post in posts:\n",
    "# Title of each post\n",
    "posts_dict[\"Title\"].append(post.title)\n",
    "\n",
    "# posttext = Text inside a post\n",
    "posts_dict[\"Post Text\"].append(post.selftext)\n",
    "\n",
    "# ID = Unique ID of each post\n",
    "posts_dict[\"ID\"].append(post.id)\n",
    "\n",
    "# The score of a post\n",
    "posts_dict[\"Score\"].append(post.score)\n",
    "\n",
    "# Total number of comments inside the post\n",
    "posts_dict[\"Total Comments\"].append(post.num_comments)\n",
    "\n",
    "# URL of each post\n",
    "posts_dict[\"Post URL\"].append(post.url)\n",
    "\n",
    "# Saving the data in a pandas dataframe\n",
    "top_posts = pd.DataFrame(posts_dict)\n",
    "top_posts\n"
   ]
  },
  {
   "cell_type": "code",
   "execution_count": 35,
   "id": "3817d4e0",
   "metadata": {},
   "outputs": [],
   "source": [
    "import pandas as pd\n",
    "top_posts.to_csv(\"Top posts.csv\", index=True) #learn this part what it is index"
   ]
  },
  {
   "cell_type": "code",
   "execution_count": null,
   "id": "781b0b05",
   "metadata": {},
   "outputs": [],
   "source": [
    "\n",
    "\n",
    "reddit_read_only = praw.Reddit(client_id=\"\",         \n",
    "                               client_secret=\"\",     \n",
    "                               user_agent=\"\")        \n",
    " url = \"https://www.reddit.com/r/football/comments/wu9zax/casemiro_joins_manchester_united_on_transfer_from/\"\n",
    "        \n",
    "submission = reddit_read_only.submission(url=url)\n",
    "\n"
   ]
  },
  {
   "cell_type": "code",
   "execution_count": 6,
   "id": "3092ad27",
   "metadata": {},
   "outputs": [
    {
     "ename": "NameError",
     "evalue": "name 'types' is not defined",
     "output_type": "error",
     "traceback": [
      "\u001b[1;31m---------------------------------------------------------------------------\u001b[0m",
      "\u001b[1;31mNameError\u001b[0m                                 Traceback (most recent call last)",
      "Input \u001b[1;32mIn [6]\u001b[0m, in \u001b[0;36m<cell line: 1>\u001b[1;34m()\u001b[0m\n\u001b[1;32m----> 1\u001b[0m \u001b[38;5;28;01masync\u001b[39;00m \u001b[38;5;28;01mdef\u001b[39;00m \u001b[38;5;21munsubscribe\u001b[39m(message: \u001b[43mtypes\u001b[49m\u001b[38;5;241m.\u001b[39mMessage):\n\u001b[0;32m      2\u001b[0m     remove_keyboard \u001b[38;5;241m=\u001b[39m types\u001b[38;5;241m.\u001b[39mReplyKeyboardRemove()\n\u001b[0;32m      4\u001b[0m     \u001b[38;5;28;01mif\u001b[39;00m message\u001b[38;5;241m.\u001b[39mchat\u001b[38;5;241m.\u001b[39mid \u001b[38;5;129;01min\u001b[39;00m BOT_ACCESS_ID:\n",
      "\u001b[1;31mNameError\u001b[0m: name 'types' is not defined"
     ]
    }
   ],
   "source": [
    "\n"
   ]
  },
  {
   "cell_type": "code",
   "execution_count": null,
   "id": "5128fc3c",
   "metadata": {},
   "outputs": [],
   "source": []
  },
  {
   "cell_type": "code",
   "execution_count": null,
   "id": "b917df33",
   "metadata": {},
   "outputs": [],
   "source": []
  },
  {
   "cell_type": "code",
   "execution_count": null,
   "id": "01764870",
   "metadata": {},
   "outputs": [],
   "source": []
  },
  {
   "cell_type": "code",
   "execution_count": null,
   "id": "9bc86c73",
   "metadata": {},
   "outputs": [],
   "source": []
  },
  {
   "cell_type": "code",
   "execution_count": null,
   "id": "0dc92969",
   "metadata": {},
   "outputs": [],
   "source": []
  },
  {
   "cell_type": "code",
   "execution_count": null,
   "id": "8a85204c",
   "metadata": {},
   "outputs": [],
   "source": []
  },
  {
   "cell_type": "code",
   "execution_count": null,
   "id": "118e9926",
   "metadata": {},
   "outputs": [],
   "source": []
  }
 ],
 "metadata": {
  "kernelspec": {
   "display_name": "Python 3 (ipykernel)",
   "language": "python",
   "name": "python3"
  },
  "language_info": {
   "codemirror_mode": {
    "name": "ipython",
    "version": 3
   },
   "file_extension": ".py",
   "mimetype": "text/x-python",
   "name": "python",
   "nbconvert_exporter": "python",
   "pygments_lexer": "ipython3",
   "version": "3.9.12"
  }
 },
 "nbformat": 4,
 "nbformat_minor": 5
}
